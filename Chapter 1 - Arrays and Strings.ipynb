{
 "cells": [
  {
   "cell_type": "code",
   "execution_count": 1,
   "metadata": {
    "collapsed": true
   },
   "outputs": [],
   "source": [
    "# Imports\n",
    "import unittest"
   ]
  },
  {
   "cell_type": "code",
   "execution_count": 2,
   "metadata": {
    "collapsed": false
   },
   "outputs": [
    {
     "name": "stdout",
     "output_type": "stream",
     "text": [
      "True\n",
      "False\n",
      "True\n",
      "False\n"
     ]
    }
   ],
   "source": [
    "# 1.1 - Is Unique\n",
    "\n",
    "def is_unique(x):\n",
    "    return len(x) == len(set(x))\n",
    "\n",
    "print is_unique('ahz')\n",
    "print is_unique('ahhz')\n",
    "\n",
    "def is_unique_no_data_structures(s):\n",
    "    bitfield = 0\n",
    "    for c in s:\n",
    "        val = 1 << ord(c)\n",
    "        if bitfield & val:  # If a value is there, the & will find it\n",
    "            return False\n",
    "        bitfield |= val  # Otherwise, add it to the field\n",
    "    return True  # If we went through the entire character map, we are good\n",
    "\n",
    "print is_unique_no_data_structures('ahz')\n",
    "print is_unique_no_data_structures('ahhz')"
   ]
  },
  {
   "cell_type": "code",
   "execution_count": 3,
   "metadata": {
    "collapsed": false
   },
   "outputs": [
    {
     "name": "stdout",
     "output_type": "stream",
     "text": [
      "True\n",
      "False\n",
      "False\n"
     ]
    }
   ],
   "source": [
    "# 1.2 - Check Permutation\n",
    "\n",
    "from collections import Counter\n",
    "def is_permutation(s1, s2):\n",
    "    return Counter(s1) == Counter(s2)\n",
    "\n",
    "print is_permutation('abcc', 'bcca')\n",
    "print is_permutation('abcc', 'bchhqqqca')\n",
    "print is_permutation('abbc', 'ac')"
   ]
  },
  {
   "cell_type": "code",
   "execution_count": 4,
   "metadata": {
    "collapsed": false
   },
   "outputs": [
    {
     "name": "stdout",
     "output_type": "stream",
     "text": [
      "Mr%20John%20Smith\n",
      "Mr%20John%20Smith\n"
     ]
    }
   ],
   "source": [
    "# 1.3 - URLify\n",
    "\n",
    "s = 'Mr John Smith    '\n",
    "l = 13\n",
    "\n",
    "def urlify(s):\n",
    "    return s.strip().replace(' ', '%20')\n",
    "print urlify(s)\n",
    "\n",
    "# OR\n",
    "\n",
    "import urllib\n",
    "print urllib.quote(s.strip())"
   ]
  },
  {
   "cell_type": "code",
   "execution_count": 5,
   "metadata": {
    "collapsed": false
   },
   "outputs": [
    {
     "name": "stderr",
     "output_type": "stream",
     "text": [
      ".\n",
      "----------------------------------------------------------------------\n",
      "Ran 1 test in 0.002s\n",
      "\n",
      "OK\n"
     ]
    },
    {
     "data": {
      "text/plain": [
       "<unittest.runner.TextTestResult run=1 errors=0 failures=0>"
      ]
     },
     "execution_count": 5,
     "metadata": {},
     "output_type": "execute_result"
    }
   ],
   "source": [
    "# 1.4 - Palindrome Permutation\n",
    "\n",
    "from collections import Counter\n",
    "def is_palindrome_permutation(s):\n",
    "    # Ignore spaces and case\n",
    "    c = Counter(s.replace(' ', '').lower())\n",
    "    # I only care about the number of odd cases\n",
    "    odds = filter(lambda x: x%2, c.values())\n",
    "    # If there are 0 or 1 odd cases it's a palindrome\n",
    "    return len(odds) in [0, 1]\n",
    "\n",
    "class Test(unittest.TestCase):\n",
    "    def test(self):\n",
    "        self.assertTrue(is_palindrome_permutation('Tact Coa'))\n",
    "        self.assertFalse(is_palindrome_permutation('Tact Coaz'))\n",
    "\n",
    "unittest.TextTestRunner().run(unittest.TestLoader().loadTestsFromTestCase(Test))"
   ]
  },
  {
   "cell_type": "code",
   "execution_count": 6,
   "metadata": {
    "collapsed": false
   },
   "outputs": [
    {
     "name": "stderr",
     "output_type": "stream",
     "text": [
      ".\n",
      "----------------------------------------------------------------------\n",
      "Ran 1 test in 0.002s\n",
      "\n",
      "OK\n"
     ]
    },
    {
     "data": {
      "text/plain": [
       "<unittest.runner.TextTestResult run=1 errors=0 failures=0>"
      ]
     },
     "execution_count": 6,
     "metadata": {},
     "output_type": "execute_result"
    }
   ],
   "source": [
    "# 1.5 - One Away\n",
    "\n",
    "def one_away(s1, s2):\n",
    "    if abs(len(s1)-len(s2)) not in [0, 1]:\n",
    "        return False\n",
    "    if abs(len(set(s1)-set(s2))) not in [0, 1]:\n",
    "        return False\n",
    "    return True\n",
    "\n",
    "class Test(unittest.TestCase):\n",
    "    def test(self):\n",
    "        self.assertTrue(one_away('pale', 'ple'))\n",
    "        self.assertTrue(one_away('pale', 'pales'))\n",
    "        self.assertTrue(one_away('pales', 'pale'))\n",
    "        self.assertTrue(one_away('pale', 'bale'))\n",
    "        self.assertFalse(one_away('pale', 'bake'))\n",
    "\n",
    "unittest.TextTestRunner().run(unittest.TestLoader().loadTestsFromTestCase(Test))"
   ]
  },
  {
   "cell_type": "code",
   "execution_count": 7,
   "metadata": {
    "collapsed": false
   },
   "outputs": [
    {
     "name": "stderr",
     "output_type": "stream",
     "text": [
      ".\n",
      "----------------------------------------------------------------------\n",
      "Ran 1 test in 0.002s\n",
      "\n",
      "OK\n"
     ]
    },
    {
     "data": {
      "text/plain": [
       "<unittest.runner.TextTestResult run=1 errors=0 failures=0>"
      ]
     },
     "execution_count": 7,
     "metadata": {},
     "output_type": "execute_result"
    }
   ],
   "source": [
    "# 1.6 - String Compression\n",
    "\n",
    "def compress(s):\n",
    "    slow = 0\n",
    "    compressed = ''\n",
    "    # Abort if the length gets too long\n",
    "    while slow < len(s) and len(compressed) < len(s):\n",
    "        # Add the current character\n",
    "        compressed += s[slow]\n",
    "        # Reset the count\n",
    "        count = 1\n",
    "        # Reset the fast pointer\n",
    "        fast = slow + 1\n",
    "        # Do until a new character appears\n",
    "        while slow < len(s) and fast < len(s) and s[fast] == s[slow]:\n",
    "            # Increment the current chars count\n",
    "            count += 1\n",
    "            # Keep going\n",
    "            fast += 1\n",
    "        # Add the count to the compressed string\n",
    "        compressed += str(count)\n",
    "        # Move the slow pointer\n",
    "        slow = fast\n",
    "    # Check the lengths\n",
    "    if len(compressed) >= len(s):\n",
    "        return s\n",
    "    return compressed\n",
    "\n",
    "class Test(unittest.TestCase):\n",
    "    def test(self):\n",
    "        self.assertEqual(compress('aabcccccaaa'), 'a2b1c5a3')\n",
    "        self.assertEqual(compress('abbb'), 'abbb')\n",
    "        self.assertEqual(compress('abbbb'), 'a1b4')\n",
    "\n",
    "unittest.TextTestRunner().run(unittest.TestLoader().loadTestsFromTestCase(Test))"
   ]
  },
  {
   "cell_type": "code",
   "execution_count": 8,
   "metadata": {
    "collapsed": false
   },
   "outputs": [
    {
     "name": "stderr",
     "output_type": "stream",
     "text": [
      ".\n",
      "----------------------------------------------------------------------\n",
      "Ran 1 test in 0.002s\n",
      "\n",
      "OK\n"
     ]
    },
    {
     "data": {
      "text/plain": [
       "<unittest.runner.TextTestResult run=1 errors=0 failures=0>"
      ]
     },
     "execution_count": 8,
     "metadata": {},
     "output_type": "execute_result"
    }
   ],
   "source": [
    "# 1.7 - Rotate Matrix (also with rotation direction)\n",
    "\n",
    "def rotate_matrix(m, cw=True):\n",
    "    # A 90 degree CCW rotation is a transpose + flip top/bottom\n",
    "    # A 90 degree  CW rotation is a flip top/bottom + transpose\n",
    "    # I'm going 90 degree CW rotation\n",
    "    if cw:\n",
    "        return [[m[c][r] for c in xrange(len(m[0])-1, -1, -1)] for r in xrange(len(m))]\n",
    "    else:\n",
    "        return [[m[c][r] for c in xrange(len(m[0]))] for r in xrange(len(m)-1, -1, -1)]\n",
    "\n",
    "class Test(unittest.TestCase):\n",
    "    def test(self):\n",
    "        array = [\n",
    "            [1, 2, 3, 4, 5],\n",
    "            [6, 7, 8, 9, 10],\n",
    "            [11, 12, 13, 14, 15],\n",
    "            [16, 17, 18, 19, 20],\n",
    "            [21, 22, 23, 24, 25],\n",
    "        ]\n",
    "        cw = [\n",
    "            [21, 16, 11, 6, 1],\n",
    "            [22, 17, 12, 7, 2],\n",
    "            [23, 18, 13, 8, 3],\n",
    "            [24, 19, 14, 9, 4],\n",
    "            [25, 20, 15, 10, 5],\n",
    "        ]\n",
    "        ccw = [\n",
    "            [5, 10, 15, 20, 25],\n",
    "            [4, 9, 14, 19, 24],\n",
    "            [3, 8, 13, 18, 23],\n",
    "            [2, 7, 12, 17, 22],\n",
    "            [1, 6, 11, 16, 21],\n",
    "        ]\n",
    "        self.assertListEqual(rotate_matrix(array), cw)\n",
    "        self.assertListEqual(rotate_matrix(array, False), ccw)\n",
    "\n",
    "unittest.TextTestRunner().run(unittest.TestLoader().loadTestsFromTestCase(Test))"
   ]
  },
  {
   "cell_type": "code",
   "execution_count": 9,
   "metadata": {
    "collapsed": false
   },
   "outputs": [
    {
     "name": "stderr",
     "output_type": "stream",
     "text": [
      "..\n",
      "----------------------------------------------------------------------\n",
      "Ran 2 tests in 0.002s\n",
      "\n",
      "OK\n"
     ]
    },
    {
     "data": {
      "text/plain": [
       "<unittest.runner.TextTestResult run=2 errors=0 failures=0>"
      ]
     },
     "execution_count": 9,
     "metadata": {},
     "output_type": "execute_result"
    }
   ],
   "source": [
    "# 1.8 -  Zero Matrix\n",
    "\n",
    "def zero_matrix(m):\n",
    "    # I think the dumb approach would be to loop through\n",
    "    # to find each zero and if one is found, loop through\n",
    "    # again to zero out each element, each time. That seems\n",
    "    # like a waste of time, and I think it's O(n^4) time.\n",
    "    # A better way would be to read it in and keep track of\n",
    "    # zero rows and columns, then copy it over. This would\n",
    "    # be O(n^2) time.\n",
    "    zeroRows = set()  # Could also use a bit mask\n",
    "    zeroCols = set()  # Could also use a bit mask\n",
    "    for r in xrange(len(m)):\n",
    "        for c in xrange(len(m[0])):\n",
    "            if m[r][c] == 0:\n",
    "                zeroRows.add(r)\n",
    "                zeroCols.add(c)\n",
    "\n",
    "    returnMatrix = []\n",
    "    for r in xrange(len(m)):\n",
    "        if r in zeroRows:\n",
    "            returnMatrix.append([0] * len(m[r]))\n",
    "        else:\n",
    "            row = m[r]\n",
    "            for c in zeroCols:\n",
    "                row[c] = 0\n",
    "            returnMatrix.append(row)\n",
    "    return returnMatrix\n",
    "\n",
    "class Test(unittest.TestCase):\n",
    "\n",
    "    def test_no_zeros(self):\n",
    "        array = [\n",
    "            [1, 2, 3, 4, 5],\n",
    "            [6, 7, 8, 9, 10],\n",
    "            [11, 12, 13, 14, 15],\n",
    "            [16, 17, 18, 19, 20],\n",
    "            [21, 22, 23, 24, 25],\n",
    "        ]\n",
    "        self.assertListEqual(zero_matrix(array), array)\n",
    "\n",
    "    def test_with_zeros(self):\n",
    "        array = [\n",
    "            [1, 2, 3, 4, 5],\n",
    "            [6, 0, 8, 9, 10],\n",
    "            [11, 12, 13, 14, 15],\n",
    "            [16, 17, 0, 19, 20],\n",
    "            [21, 22, 23, 24, 25],\n",
    "        ]\n",
    "        truth = [\n",
    "            [1, 0, 0, 4, 5],\n",
    "            [0, 0, 0, 0, 0],\n",
    "            [11, 0, 0, 14, 15],\n",
    "            [0, 0, 0, 0, 0],\n",
    "            [21, 0, 0, 24, 25],\n",
    "        ]\n",
    "        self.assertListEqual(zero_matrix(array), truth)\n",
    "\n",
    "unittest.TextTestRunner().run(unittest.TestLoader().loadTestsFromTestCase(Test))"
   ]
  },
  {
   "cell_type": "code",
   "execution_count": 10,
   "metadata": {
    "collapsed": false
   },
   "outputs": [
    {
     "name": "stderr",
     "output_type": "stream",
     "text": [
      ".\n",
      "----------------------------------------------------------------------\n",
      "Ran 1 test in 0.002s\n",
      "\n",
      "OK\n"
     ]
    },
    {
     "data": {
      "text/plain": [
       "<unittest.runner.TextTestResult run=1 errors=0 failures=0>"
      ]
     },
     "execution_count": 10,
     "metadata": {},
     "output_type": "execute_result"
    }
   ],
   "source": [
    "# 1.9 - String Rotation\n",
    "\n",
    "def is_substring(full, sub):\n",
    "    return full.find(sub) != -1\n",
    "\n",
    "def is_rotation(s1, s2):\n",
    "    if len(s1) == len(s2):\n",
    "        return is_substring(s1+s1, s2)\n",
    "    return False\n",
    "\n",
    "class Test(unittest.TestCase):\n",
    "\n",
    "    def test(self):\n",
    "        self.assertTrue(is_rotation('waterbottle', 'erbottlewat'))\n",
    "        self.assertTrue(is_rotation('abcdefg', 'efgabcd'))\n",
    "        self.assertTrue(is_rotation('abc', 'abc'))\n",
    "        self.assertFalse(is_rotation('abc', 'abcd'))\n",
    "        self.assertFalse(is_rotation('abc', 'abcabc'))\n",
    "        self.assertFalse(is_rotation('hi', 'mom'))\n",
    "        self.assertFalse(is_rotation('watererbottle', 'erbottleerwat'))\n",
    "\n",
    "unittest.TextTestRunner().run(unittest.TestLoader().loadTestsFromTestCase(Test))"
   ]
  }
 ],
 "metadata": {
  "kernelspec": {
   "display_name": "Python 2",
   "language": "python",
   "name": "python2"
  },
  "language_info": {
   "codemirror_mode": {
    "name": "ipython",
    "version": 2
   },
   "file_extension": ".py",
   "mimetype": "text/x-python",
   "name": "python",
   "nbconvert_exporter": "python",
   "pygments_lexer": "ipython2",
   "version": "2.7.13"
  }
 },
 "nbformat": 4,
 "nbformat_minor": 2
}
