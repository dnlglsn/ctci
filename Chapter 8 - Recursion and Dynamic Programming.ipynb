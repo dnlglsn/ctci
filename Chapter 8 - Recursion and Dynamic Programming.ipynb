{
 "cells": [
  {
   "cell_type": "markdown",
   "metadata": {},
   "source": [
    "https://networkx.github.io/documentation/networkx-1.10/reference/generators.html"
   ]
  },
  {
   "cell_type": "code",
   "execution_count": 5,
   "metadata": {
    "collapsed": false
   },
   "outputs": [],
   "source": [
    "# Imports\n",
    "import random\n",
    "import unittest\n",
    "from binarytree import Node, bst as generate_bst, stringify\n",
    "import networkx as nx\n",
    "import matplotlib.pyplot as plt\n",
    "import numpy as np\n",
    "%matplotlib inline"
   ]
  },
  {
   "cell_type": "code",
   "execution_count": 6,
   "metadata": {
    "collapsed": false,
    "scrolled": false
   },
   "outputs": [
    {
     "name": "stdout",
     "output_type": "stream",
     "text": [
      "0 0\n",
      "1 1\n",
      "2 2\n",
      "3 4\n",
      "4 7\n",
      "5 13\n",
      "6 24\n",
      "7 44\n",
      "8 81\n",
      "9 149\n",
      "\n",
      "0 1\n",
      "1 1\n",
      "2 2\n",
      "3 4\n",
      "4 7\n",
      "5 13\n",
      "6 24\n",
      "7 44\n",
      "8 81\n",
      "9 149\n"
     ]
    }
   ],
   "source": [
    "# 8.1 - Triple Step - Staircause with n steps. Can hope 1, 2, or 3 steps.\n",
    "#                     How many ways can the child run up the stairs?\n",
    "\n",
    "def memoize(f):\n",
    "    cache = {}\n",
    "    def decorated_function(*args):\n",
    "        if args in cache:\n",
    "            return cache[args]\n",
    "        else:\n",
    "            cache[args] = f(*args)\n",
    "            return cache[args]\n",
    "    return decorated_function\n",
    "\n",
    "@memoize\n",
    "def count_hops(numSteps, i=0):\n",
    "    ways = 0\n",
    "    for skip in [x for x in [1, 2, 3] if x <= numSteps]:\n",
    "        if numSteps-skip == 0:\n",
    "            ways += 1\n",
    "        elif numSteps-skip > 0:\n",
    "            ways += count_hops(numSteps-skip, i+1)\n",
    "    return ways\n",
    "\n",
    "for x in range(10):\n",
    "    print x, count_hops(x)\n",
    "print ''\n",
    "\n",
    "def count_hops2(x):\n",
    "    memo = [1, 1, 2, 4]\n",
    "    if x < 3:\n",
    "        return memo[x]\n",
    "    for i in xrange(3, x):\n",
    "        memo[3], memo[2], memo[1], memo[0] = sum(memo[-3:]), memo[3], memo[2], memo[1]\n",
    "    return memo[3]\n",
    "\n",
    "for x in range(10):\n",
    "    print x, count_hops2(x)"
   ]
  },
  {
   "cell_type": "code",
   "execution_count": 27,
   "metadata": {
    "collapsed": false
   },
   "outputs": [
    {
     "data": {
      "text/plain": [
       "[8, 10]"
      ]
     },
     "execution_count": 27,
     "metadata": {},
     "output_type": "execute_result"
    }
   ],
   "source": [
    "map(sum, zip([3,4],[5,6]))"
   ]
  },
  {
   "cell_type": "code",
   "execution_count": 171,
   "metadata": {
    "collapsed": false
   },
   "outputs": [
    {
     "name": "stdout",
     "output_type": "stream",
     "text": [
      ". . . . . .   .  .  .   . . . . . \n",
      ". . .   .  . . . .    . . .  . . \n",
      ".   . .  . . . . . . . .  . .   . \n",
      ". . . . .  . . . . . . .   . . . .  \n",
      ". . . . . . . . . . . . . . . .  . . . \n",
      ". .   . .    . .  . .  . .   . \n",
      ". .  . . . . . . . . .  .   . . .  \n",
      ". .  . . .   .    . . .  . . . . \n",
      " . . . .  . .  . . . . .   . . . . \n",
      " . . . . . . . . .  . . . . . . . . . \n",
      "True\n",
      "o . . . . .   .  .  .   . . . . . \n",
      "o . .   .  . . . .    . . .  . . \n",
      "o   . .  . . . . . . . .  . .   . \n",
      "o o o o o  . . . . . . .   . . . .  \n",
      ". . . . o o o o o o o o o o o o  . . . \n",
      ". .   . .    . .  . .  o o   . \n",
      ". .  . . . . . . . . .  .   o o o  \n",
      ". .  . . .   .    . . .  . . o o \n",
      " . . . .  . .  . . . . .   . . . o \n",
      " . . . . . . . . .  . . . . . . . . o \n"
     ]
    }
   ],
   "source": [
    "# 8.2 - Robot in a Grid - Grid with R rows and C cols. Robot can move in 2 directions: right and down.\n",
    "#       Certain cells are off limits. Design an algorithm to find path from top/left to bottom/right.\n",
    "\n",
    "import copy\n",
    "\n",
    "RIGHT = (0, 1)\n",
    "DOWN = (1, 0)\n",
    "LEFT = (0, -1)\n",
    "UP = (-1, 0)\n",
    "\n",
    "def make_grid(r, c, densityOfOffLimits=0.3):\n",
    "    grid = (np.random.random((r,c)) > densityOfOffLimits).astype(np.int)\n",
    "    grid[0, 0] = 1\n",
    "    grid[-1, -1] = 1\n",
    "    return grid\n",
    "\n",
    "def is_good_pos(pos, grid):\n",
    "    return pos[0] < grid.shape[0] and pos[1] < grid.shape[1] and grid[pos[0], pos[1]]\n",
    "\n",
    "def get_result(direction, pos, path):\n",
    "    axis = {UP: 0, DOWN: 0, RIGHT: 1, LEFT: 1}[direction]\n",
    "    newPos = map(sum, zip(pos, direction))\n",
    "    if is_good_pos(newPos, grid):\n",
    "        newPath = copy.copy(path)\n",
    "        newPath.append(pos)\n",
    "        path = find_path(grid, newPos, newPath)\n",
    "        if path:\n",
    "            return path\n",
    "\n",
    "def find_path(grid, pos=None, path=None):\n",
    "    if pos is None:\n",
    "        pos = [0, 0]\n",
    "    if path is None:\n",
    "        path = []\n",
    "    if pos == map(sum, zip(grid.shape, [-1, -1])):\n",
    "        path.append(pos)\n",
    "        return path\n",
    "    for direction in [RIGHT, DOWN]:\n",
    "        result = get_result(direction, pos, path)\n",
    "        if result:\n",
    "            return result\n",
    "            print 'returning', path, result\n",
    "            path.append(result)\n",
    "            return path\n",
    "\n",
    "def draw_grid(grid):\n",
    "    for r in grid:\n",
    "        for c in r:\n",
    "            if c == 1:\n",
    "                print '.',\n",
    "            elif c > 1:\n",
    "                print 'o',\n",
    "            else:\n",
    "                print chr(127),\n",
    "        print ''\n",
    "\n",
    "grid = make_grid(10, 20)\n",
    "draw_grid(grid)\n",
    "result = find_path(grid)\n",
    "print result is not None\n",
    "if result is not None:\n",
    "    result = np.array(result)\n",
    "    grid[result[:,0], result[:,1]] = 8\n",
    "    draw_grid(grid)"
   ]
  }
 ],
 "metadata": {
  "kernelspec": {
   "display_name": "Python 2",
   "language": "python",
   "name": "python2"
  },
  "language_info": {
   "codemirror_mode": {
    "name": "ipython",
    "version": 2
   },
   "file_extension": ".py",
   "mimetype": "text/x-python",
   "name": "python",
   "nbconvert_exporter": "python",
   "pygments_lexer": "ipython2",
   "version": "2.7.13"
  }
 },
 "nbformat": 4,
 "nbformat_minor": 2
}
