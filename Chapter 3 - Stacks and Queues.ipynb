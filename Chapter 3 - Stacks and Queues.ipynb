{
 "cells": [
  {
   "cell_type": "code",
   "execution_count": 35,
   "metadata": {
    "collapsed": true
   },
   "outputs": [],
   "source": [
    "# Imports\n",
    "import unittest\n",
    "import random\n",
    "import operator\n",
    "import itertools"
   ]
  },
  {
   "cell_type": "code",
   "execution_count": 36,
   "metadata": {
    "collapsed": false
   },
   "outputs": [],
   "source": [
    "# Linked List Class\n",
    "class LinkedList(object):\n",
    "\n",
    "    def __init__(self, value=None, head=None, tail=None):\n",
    "        self.head = head\n",
    "        self.tail = tail\n",
    "        self.value = value\n",
    "\n",
    "    def __str__(self):\n",
    "        return str((self.head.value if self.head is not None else None,\n",
    "                    self.value,\n",
    "                    self.tail.value if self.tail is not None else None,\n",
    "                    ))\n",
    "\n",
    "    def to_list(self):\n",
    "        current = self\n",
    "        values = []\n",
    "        while current and current.value is not None:\n",
    "            values.append(current.value)\n",
    "            current = current.tail\n",
    "        return values\n",
    "\n",
    "def generate(values):\n",
    "    current = head = LinkedList()\n",
    "    for value in values:\n",
    "        current.value = value\n",
    "        current.tail = LinkedList()\n",
    "        current.tail.head = current\n",
    "        current = current.tail\n",
    "    current.head.tail = None\n",
    "    return head"
   ]
  },
  {
   "cell_type": "code",
   "execution_count": 37,
   "metadata": {
    "collapsed": false
   },
   "outputs": [
    {
     "name": "stderr",
     "output_type": "stream",
     "text": [
      "E\n",
      "======================================================================\n",
      "ERROR: test (__main__.Test)\n",
      "----------------------------------------------------------------------\n",
      "Traceback (most recent call last):\n",
      "  File \"<ipython-input-37-1c4b48b29ff7>\", line 13, in test\n",
      "    self.assertListEqual(remove_dups(linkedList).to_list(), range(num))\n",
      "NameError: global name 'remove_dups' is not defined\n",
      "\n",
      "----------------------------------------------------------------------\n",
      "Ran 1 test in 0.005s\n",
      "\n",
      "FAILED (errors=1)\n"
     ]
    },
    {
     "data": {
      "text/plain": [
       "<unittest.runner.TextTestResult run=1 errors=1 failures=0>"
      ]
     },
     "execution_count": 37,
     "metadata": {},
     "output_type": "execute_result"
    }
   ],
   "source": [
    "# 3.1 - Three in One\n",
    "\n",
    "\"\"\" I don't like this question. Why would anyone ever want to do this? Weird. I'll do it later. \"\"\"\n",
    "\n",
    "class ThreeInOne(object):\n",
    "    def __init__(self):\n",
    "        pass\n",
    "\n",
    "class Test(unittest.TestCase):\n",
    "    def test(self):\n",
    "        num = 10\n",
    "        linkedList = generate(range(num) * 2)\n",
    "        self.assertListEqual(remove_dups(linkedList).to_list(), range(num))\n",
    "\n",
    "unittest.TextTestRunner().run(unittest.TestLoader().loadTestsFromTestCase(Test))"
   ]
  },
  {
   "cell_type": "code",
   "execution_count": 38,
   "metadata": {
    "collapsed": false
   },
   "outputs": [
    {
     "name": "stderr",
     "output_type": "stream",
     "text": [
      "....\n",
      "----------------------------------------------------------------------\n",
      "Ran 4 tests in 0.006s\n",
      "\n",
      "OK\n"
     ]
    },
    {
     "data": {
      "text/plain": [
       "<unittest.runner.TextTestResult run=4 errors=0 failures=0>"
      ]
     },
     "execution_count": 38,
     "metadata": {},
     "output_type": "execute_result"
    }
   ],
   "source": [
    "# 3.2 - Stack Min\n",
    "\n",
    "class MinStack(list):\n",
    "\n",
    "    def __init__(self):\n",
    "        list.__init__(self)\n",
    "        self._minStack = []\n",
    "\n",
    "    def append(self, value):\n",
    "        list.append(self, value)\n",
    "        if len(self) == 1 or value <= self.min():\n",
    "            self._minStack.append(value)\n",
    "\n",
    "    def pop(self):\n",
    "        value = list.pop(self)\n",
    "        if value == self.min():\n",
    "            self._minStack.pop()\n",
    "        return value\n",
    "\n",
    "    def min(self):\n",
    "        return self._minStack[-1]\n",
    "\n",
    "class Test(unittest.TestCase):\n",
    "\n",
    "    def test1(self):\n",
    "        minStack = MinStack()\n",
    "        values = range(3)\n",
    "        for i in values:\n",
    "            minStack.append(i)\n",
    "        self.assertEqual(minStack.min(), min(values))\n",
    "\n",
    "    def test2(self):\n",
    "        minStack = MinStack()\n",
    "        values = range(3)[::-1]\n",
    "        for i in values:\n",
    "            minStack.append(i)\n",
    "        self.assertEqual(minStack.min(), min(values))\n",
    "\n",
    "    def test3(self):\n",
    "        minStack = MinStack()\n",
    "        values = [3] * 3\n",
    "        for i in values:\n",
    "            minStack.append(i)\n",
    "        self.assertEqual(minStack.min(), min(values))\n",
    "\n",
    "    def test4(self):\n",
    "        minStack = MinStack()\n",
    "        values = [3] * 3 + [2] + [3] * 3\n",
    "        for i in values:\n",
    "            minStack.append(i)\n",
    "        self.assertEqual(minStack.min(), min(values))\n",
    "        for i in range(len(minStack)):\n",
    "            self.assertEqual(minStack.min(), min(minStack))\n",
    "            minStack.pop()\n",
    "\n",
    "unittest.TextTestRunner().run(unittest.TestLoader().loadTestsFromTestCase(Test))"
   ]
  },
  {
   "cell_type": "code",
   "execution_count": 39,
   "metadata": {
    "collapsed": false
   },
   "outputs": [
    {
     "name": "stderr",
     "output_type": "stream",
     "text": [
      ".\n",
      "----------------------------------------------------------------------\n",
      "Ran 1 test in 0.002s\n",
      "\n",
      "OK\n"
     ]
    },
    {
     "data": {
      "text/plain": [
       "<unittest.runner.TextTestResult run=1 errors=0 failures=0>"
      ]
     },
     "execution_count": 39,
     "metadata": {},
     "output_type": "execute_result"
    }
   ],
   "source": [
    "# 3.3 - Stack of Plates\n",
    "\n",
    "class SuperStack(list):\n",
    "\n",
    "    def __init__(self, maxSize=10):\n",
    "        list.__init__(self)\n",
    "        self._maxSize = maxSize\n",
    "\n",
    "    def push(self, value):\n",
    "        if len(self) == 0 or len(self[-1]) == self._maxSize:\n",
    "            self.append([])\n",
    "        self[-1].append(value)\n",
    "\n",
    "    def pop(self):\n",
    "        if len(self) > 0:\n",
    "            value = self[-1].pop()\n",
    "            if len(self[-1]) == 0:\n",
    "                list.pop(self)\n",
    "            return value\n",
    "        raise IndexError('pop from empty list')\n",
    "\n",
    "class Test(unittest.TestCase):\n",
    "\n",
    "    def test(self):\n",
    "        stack = SuperStack(2)\n",
    "        values = range(3)\n",
    "        for i in values:\n",
    "            stack.push(i)\n",
    "        self.assertEqual(stack.pop(), max(values))\n",
    "\n",
    "unittest.TextTestRunner().run(unittest.TestLoader().loadTestsFromTestCase(Test))"
   ]
  },
  {
   "cell_type": "code",
   "execution_count": 55,
   "metadata": {
    "collapsed": false
   },
   "outputs": [
    {
     "name": "stderr",
     "output_type": "stream",
     "text": [
      "..\n",
      "----------------------------------------------------------------------\n",
      "Ran 2 tests in 0.004s\n",
      "\n",
      "OK\n"
     ]
    },
    {
     "data": {
      "text/plain": [
       "<unittest.runner.TextTestResult run=2 errors=0 failures=0>"
      ]
     },
     "execution_count": 55,
     "metadata": {},
     "output_type": "execute_result"
    }
   ],
   "source": [
    "# 3.4 - Queue via Stacks\n",
    "\n",
    "def flip_stacks(a, b):\n",
    "    for _ in range(len(a)):\n",
    "        b.append(a.pop())\n",
    "\n",
    "class QueueViaStacks(object):\n",
    "\n",
    "    def __init__(self):\n",
    "        self.a = []\n",
    "        self.b = []\n",
    "\n",
    "    def push(self, value):\n",
    "        flip_stacks(self.a, self.b)\n",
    "        self.a.append(value)\n",
    "        flip_stacks(self.b, self.a)\n",
    "\n",
    "    def pop(self):\n",
    "        return self.a.pop()\n",
    "\n",
    "    def peek(self):\n",
    "        return self.a[-1]\n",
    "\n",
    "    def __len__(self):\n",
    "        return len(self.a)\n",
    "\n",
    "    def is_empty(self):\n",
    "        return len(self.a) == 0\n",
    "\n",
    "    def __repr__(self):\n",
    "        return str([self.a, self.b])\n",
    "\n",
    "class Test(unittest.TestCase):\n",
    "\n",
    "    def test1(self):\n",
    "        values = range(10)\n",
    "        queue = QueueViaStacks()\n",
    "        for v in values:\n",
    "            queue.push(v)\n",
    "        self.assertEqual(queue.pop(), values[0])\n",
    "\n",
    "    def test2(self):\n",
    "        numValues = 10\n",
    "        values = random.sample(range(numValues), numValues)\n",
    "        queue = QueueViaStacks()\n",
    "        for v in values:\n",
    "            queue.push(v)\n",
    "        self.assertEqual(queue.pop(), values[0])\n",
    "\n",
    "unittest.TextTestRunner().run(unittest.TestLoader().loadTestsFromTestCase(Test))"
   ]
  },
  {
   "cell_type": "code",
   "execution_count": null,
   "metadata": {
    "collapsed": true
   },
   "outputs": [],
   "source": [
    "# 3.5 - Sort Stack\n",
    "\n",
    "def sort_stack(stack):\n",
    "\n",
    "    sort = []\n",
    "    while len(stack) > 0:\n",
    "        temp = stack.pop()\n",
    "        found = False\n",
    "        while not found:\n",
    "            stack.append(sort.pop())\n",
    "            found = (temp >= value)\n",
    "        sort.append(temp)\n",
    "    return sort\n",
    "\n",
    "class Test(unittest.TestCase):\n",
    "\n",
    "    def test1(self):\n",
    "        values = range(10)\n",
    "        queue = QueueViaStacks()\n",
    "        for v in values:\n",
    "            queue.push(v)\n",
    "        self.assertEqual(queue.pop(), values[0])\n",
    "\n",
    "    def test2(self):\n",
    "        numValues = 10\n",
    "        values = random.sample(range(numValues), numValues)\n",
    "        queue = QueueViaStacks()\n",
    "        for v in values:\n",
    "            queue.push(v)\n",
    "        self.assertEqual(queue.pop(), values[0])\n",
    "\n",
    "unittest.TextTestRunner().run(unittest.TestLoader().loadTestsFromTestCase(Test))"
   ]
  }
 ],
 "metadata": {
  "kernelspec": {
   "display_name": "Python 2",
   "language": "python",
   "name": "python2"
  },
  "language_info": {
   "codemirror_mode": {
    "name": "ipython",
    "version": 2
   },
   "file_extension": ".py",
   "mimetype": "text/x-python",
   "name": "python",
   "nbconvert_exporter": "python",
   "pygments_lexer": "ipython2",
   "version": "2.7.13"
  }
 },
 "nbformat": 4,
 "nbformat_minor": 2
}
