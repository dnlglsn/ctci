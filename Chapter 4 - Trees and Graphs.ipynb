{
 "cells": [
  {
   "cell_type": "markdown",
   "metadata": {},
   "source": [
    "https://networkx.github.io/documentation/networkx-1.10/reference/generators.html"
   ]
  },
  {
   "cell_type": "code",
   "execution_count": 8,
   "metadata": {
    "collapsed": false
   },
   "outputs": [],
   "source": [
    "# Imports\n",
    "import random\n",
    "import unittest\n",
    "from binarytree import Node, bst as generate_bst, stringify\n",
    "import networkx as nx\n",
    "import matplotlib.pyplot as plt\n",
    "import numpy as np\n",
    "import math\n",
    "%matplotlib inline"
   ]
  },
  {
   "cell_type": "code",
   "execution_count": 9,
   "metadata": {
    "collapsed": true
   },
   "outputs": [],
   "source": [
    "def draw_graph(graph):\n",
    "    nx.draw(graph, with_labels=True, node_color='grey', node_size=1000)"
   ]
  },
  {
   "cell_type": "code",
   "execution_count": 10,
   "metadata": {
    "collapsed": false
   },
   "outputs": [
    {
     "name": "stderr",
     "output_type": "stream",
     "text": [
      "."
     ]
    },
    {
     "name": "stdout",
     "output_type": "stream",
     "text": [
      "Is there a route from 2 to 8? False\n"
     ]
    },
    {
     "name": "stderr",
     "output_type": "stream",
     "text": [
      "\n",
      "----------------------------------------------------------------------\n",
      "Ran 1 test in 0.106s\n",
      "\n",
      "OK\n"
     ]
    },
    {
     "data": {
      "text/plain": [
       "<unittest.runner.TextTestResult run=1 errors=0 failures=0>"
      ]
     },
     "execution_count": 10,
     "metadata": {},
     "output_type": "execute_result"
    },
    {
     "data": {
      "image/png": "[encoded data removed]",
      "text/plain": [
       "<matplotlib.figure.Figure at 0x7fb78c1123d0>"
      ]
     },
     "metadata": {},
     "output_type": "display_data"
    }
   ],
   "source": [
    "# 4.1 - Route Between Nodes\n",
    "\n",
    "def get_route(graph, node, target, seen=None, level=0):\n",
    "    if seen is None:\n",
    "        seen = set()\n",
    "    val = False\n",
    "    for neighbor in graph.neighbors(node):\n",
    "        if neighbor in seen:\n",
    "            val |= False\n",
    "        elif neighbor == target:\n",
    "            val |= True\n",
    "        else:\n",
    "            seen.add(neighbor)\n",
    "            val |= get_route(graph, neighbor, target, seen, level+1)\n",
    "    return val\n",
    "\n",
    "class Test(unittest.TestCase):\n",
    "    def test(self):\n",
    "        numNodes = 10\n",
    "        probabilityOfEdge = 0.2\n",
    "        source, target = 2, 8\n",
    "        graph = nx.gnp_random_graph(numNodes, probabilityOfEdge, directed=True)\n",
    "        draw_graph(graph)\n",
    "        hasRoute = get_route(graph, source, target)\n",
    "        print 'Is there a route from %i to %i?' % (source, target), hasRoute\n",
    "        try:\n",
    "            results = nx.dijkstra_path(graph, source, target)\n",
    "            truth = True\n",
    "        except nx.NetworkXNoPath:\n",
    "            truth = False\n",
    "        self.assertEqual(hasRoute, truth)\n",
    "\n",
    "unittest.TextTestRunner().run(unittest.TestLoader().loadTestsFromTestCase(Test))"
   ]
  },
  {
   "cell_type": "code",
   "execution_count": 11,
   "metadata": {
    "collapsed": false,
    "scrolled": false
   },
   "outputs": [
    {
     "name": "stderr",
     "output_type": "stream",
     "text": [
      "."
     ]
    },
    {
     "name": "stdout",
     "output_type": "stream",
     "text": [
      "[3, 9, 10, 12, 15, 38, 44, 54, 71, 73, 83, 89, 90, 94, 96]\n",
      "\n",
      "          _________54_________            \n",
      "         /                    \\           \n",
      "    ___12___                ___89___      \n",
      "   /        \\              /        \\     \n",
      "  9          38          73          94   \n",
      " / \\        /  \\        /  \\        /  \\  \n",
      "3   10    15    44    71    83    90    96\n",
      "                                          \n"
     ]
    },
    {
     "name": "stderr",
     "output_type": "stream",
     "text": [
      "\n",
      "----------------------------------------------------------------------\n",
      "Ran 1 test in 0.003s\n",
      "\n",
      "OK\n"
     ]
    },
    {
     "data": {
      "text/plain": [
       "<unittest.runner.TextTestResult run=1 errors=0 failures=0>"
      ]
     },
     "execution_count": 11,
     "metadata": {},
     "output_type": "execute_result"
    }
   ],
   "source": [
    "# 4.2 - Minimal Tree - Given sorted (increasing order) array with unique elements,\n",
    "#                      write an algorithm to create a binary earch tree with\n",
    "#                      minimal height\n",
    "\n",
    "def array_to_bst(array, parent=None):\n",
    "    \"\"\" Create a minimal height BST from a sorted array of unique elements. \"\"\"\n",
    "    index = len(array) // 2\n",
    "    root = Node(array[index], parent)\n",
    "    left = array[:index]\n",
    "    right = array[index+1:]\n",
    "    if len(left) > 0:\n",
    "        root.left = array_to_bst(left, root)\n",
    "    if len(right) > 0:\n",
    "        root.right = array_to_bst(right, root)\n",
    "    return root\n",
    "\n",
    "def max_height(root, height=0):\n",
    "    if root is None:\n",
    "        return height\n",
    "    return max(max_height(root.left, height+1),\n",
    "               max_height(root.right, height+1))\n",
    "\n",
    "class Test(unittest.TestCase):\n",
    "    def test(self):\n",
    "        numNodes = 15\n",
    "        array = sorted(random.sample(range(100), numNodes))\n",
    "        print array\n",
    "        bst = array_to_bst(array)\n",
    "        print bst\n",
    "        self.assertEqual(int(math.log(numNodes, 2) + 1),\n",
    "                         max_height(bst))\n",
    "\n",
    "unittest.TextTestRunner().run(unittest.TestLoader().loadTestsFromTestCase(Test))"
   ]
  },
  {
   "cell_type": "code",
   "execution_count": 12,
   "metadata": {
    "collapsed": false
   },
   "outputs": [
    {
     "name": "stderr",
     "output_type": "stream",
     "text": [
      "."
     ]
    },
    {
     "name": "stdout",
     "output_type": "stream",
     "text": [
      "\n",
      "                       ___49_______________                      \n",
      "                      /                    \\                     \n",
      "     _______________42                      66_________          \n",
      "    /                 \\                    /           \\         \n",
      "  15                   46          ______62          ___83____   \n",
      " /  \\                             /                 /         \\  \n",
      "7    16___                      55                77          124\n",
      "          \\                    /  \\              /  \\        /   \n",
      "           32                53    57          70    78    96    \n",
      "          /  \\                       \\                           \n",
      "        23    36                      59                         \n",
      "                \\                                                \n",
      "                 40                                              \n",
      "                                                                 \n",
      "[49]\n",
      "[42, 66]\n",
      "[15, 46, 62, 83]\n",
      "[7, 16, 55, 77, 124]\n",
      "[32, 53, 57, 70, 78, 96]\n",
      "[23, 36, 59]\n",
      "[40]\n"
     ]
    },
    {
     "name": "stderr",
     "output_type": "stream",
     "text": [
      "\n",
      "----------------------------------------------------------------------\n",
      "Ran 1 test in 0.008s\n",
      "\n",
      "OK\n"
     ]
    },
    {
     "data": {
      "text/plain": [
       "<unittest.runner.TextTestResult run=1 errors=0 failures=0>"
      ]
     },
     "execution_count": 12,
     "metadata": {},
     "output_type": "execute_result"
    }
   ],
   "source": [
    "# 4.3 - List of Depths - Given a BST, write an algorithm which\n",
    "#                        returns a linked list for each depth layer.\n",
    "\n",
    "class LinkedList(object):\n",
    "\n",
    "    def __init__(self, value=None, head=None, tail=None):\n",
    "        self.head = head\n",
    "        self.tail = tail\n",
    "        self.value = value\n",
    "\n",
    "    def __str__(self):\n",
    "        return str((self.head.value if self.head is not None else None,\n",
    "                    self.value,\n",
    "                    self.tail.value if self.tail is not None else None,\n",
    "                    ))\n",
    "\n",
    "    def to_list(self):\n",
    "        current = self\n",
    "        values = []\n",
    "        while current and current.value is not None:\n",
    "            values.append(current.value)\n",
    "            current = current.tail\n",
    "        return values\n",
    "\n",
    "def bst_to_linked_lists(node, lists=None, height=0):\n",
    "    \"\"\" Return a linked list of nodes for each depth layer in a BST. \"\"\"\n",
    "    if lists is None:\n",
    "        lists = []\n",
    "    if len(lists) == height:\n",
    "        lists.append(LinkedList(node))\n",
    "    else:\n",
    "        tailNode = lists[height]\n",
    "        while tailNode.tail is not None:\n",
    "            tailNode = tailNode.tail\n",
    "        tailNode.tail = LinkedList(node)\n",
    "    if node.left is not None:\n",
    "        bst_to_linked_lists(node.left, lists, height+1)\n",
    "    if node.right is not None:\n",
    "        bst_to_linked_lists(node.right, lists, height+1)\n",
    "    return lists\n",
    "\n",
    "class Test(unittest.TestCase):\n",
    "    def test(self):\n",
    "        height = 6\n",
    "        bst = generate_bst(height)\n",
    "        print bst\n",
    "        self.assertEqual(max_height(bst), height+1)\n",
    "        linkedLists = bst_to_linked_lists(bst)\n",
    "        for l in linkedLists:\n",
    "            print [x.value for x in l.to_list()]\n",
    "        self.assertEqual(len(linkedLists), height+1)\n",
    "\n",
    "unittest.TextTestRunner().run(unittest.TestLoader().loadTestsFromTestCase(Test))"
   ]
  },
  {
   "cell_type": "code",
   "execution_count": 63,
   "metadata": {
    "collapsed": false
   },
   "outputs": [
    {
     "name": "stderr",
     "output_type": "stream",
     "text": [
      "."
     ]
    },
    {
     "name": "stdout",
     "output_type": "stream",
     "text": [
      "\n",
      "       ___13   \n",
      "      /     \\  \n",
      "  __10       14\n",
      " /    \\        \n",
      "0      12      \n",
      " \\             \n",
      "  3            \n",
      "               \n",
      "is balanced? False\n"
     ]
    },
    {
     "name": "stderr",
     "output_type": "stream",
     "text": [
      "\n",
      "----------------------------------------------------------------------\n",
      "Ran 1 test in 0.003s\n",
      "\n",
      "OK\n"
     ]
    },
    {
     "data": {
      "text/plain": [
       "<unittest.runner.TextTestResult run=1 errors=0 failures=0>"
      ]
     },
     "execution_count": 63,
     "metadata": {},
     "output_type": "execute_result"
    }
   ],
   "source": [
    "# 4.4 - Checked Balanced\n",
    "\n",
    "def _is_balanced(root, height=0):\n",
    "    if root is None:\n",
    "        return height\n",
    "    lHeight = max_height(root.left, height+1)\n",
    "    rHeight = max_height(root.right, height+1)\n",
    "    if False in [lHeight, rHeight]:\n",
    "        return False\n",
    "    if abs(lHeight-rHeight) > 1:\n",
    "        return False\n",
    "    return max(lHeight, rHeight)\n",
    "\n",
    "def is_balanced(root):\n",
    "    return _is_balanced(root) is not False\n",
    "\n",
    "class Test(unittest.TestCase):\n",
    "    def test(self):\n",
    "        height = 3\n",
    "        bst = generate_bst(height)\n",
    "        print bst\n",
    "        print 'is balanced?', is_balanced(bst)\n",
    "\n",
    "unittest.TextTestRunner().run(unittest.TestLoader().loadTestsFromTestCase(Test))"
   ]
  },
  {
   "cell_type": "code",
   "execution_count": null,
   "metadata": {
    "collapsed": true
   },
   "outputs": [],
   "source": []
  }
 ],
 "metadata": {
  "kernelspec": {
   "display_name": "Python 2",
   "language": "python",
   "name": "python2"
  },
  "language_info": {
   "codemirror_mode": {
    "name": "ipython",
    "version": 2
   },
   "file_extension": ".py",
   "mimetype": "text/x-python",
   "name": "python",
   "nbconvert_exporter": "python",
   "pygments_lexer": "ipython2",
   "version": "2.7.13"
  }
 },
 "nbformat": 4,
 "nbformat_minor": 2
}
