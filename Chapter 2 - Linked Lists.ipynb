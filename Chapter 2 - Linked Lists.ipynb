{
 "cells": [
  {
   "cell_type": "code",
   "execution_count": 10,
   "metadata": {
    "collapsed": true
   },
   "outputs": [],
   "source": [
    "# Imports\n",
    "import unittest\n",
    "import random\n",
    "import operator\n",
    "import itertools"
   ]
  },
  {
   "cell_type": "code",
   "execution_count": 11,
   "metadata": {
    "collapsed": false
   },
   "outputs": [],
   "source": [
    "# Linked List Class\n",
    "class LinkedList(object):\n",
    "\n",
    "    def __init__(self, value=None, head=None, tail=None):\n",
    "        self.head = head\n",
    "        self.tail = tail\n",
    "        self.value = value\n",
    "\n",
    "    def __str__(self):\n",
    "        return str((self.head.value if self.head is not None else None,\n",
    "                    self.value,\n",
    "                    self.tail.value if self.tail is not None else None,\n",
    "                    ))\n",
    "\n",
    "    def to_list(self):\n",
    "        current = self\n",
    "        values = []\n",
    "        while current and current.value is not None:\n",
    "            values.append(current.value)\n",
    "            current = current.tail\n",
    "        return values\n",
    "\n",
    "def generate(values):\n",
    "    current = head = LinkedList()\n",
    "    for value in values:\n",
    "        current.value = value\n",
    "        current.tail = LinkedList()\n",
    "        current.tail.head = current\n",
    "        current = current.tail\n",
    "    current.head.tail = None\n",
    "    return head"
   ]
  },
  {
   "cell_type": "code",
   "execution_count": 12,
   "metadata": {
    "collapsed": false
   },
   "outputs": [
    {
     "name": "stderr",
     "output_type": "stream",
     "text": [
      ".\n",
      "----------------------------------------------------------------------\n",
      "Ran 1 test in 0.002s\n",
      "\n",
      "OK\n"
     ]
    },
    {
     "data": {
      "text/plain": [
       "<unittest.runner.TextTestResult run=1 errors=0 failures=0>"
      ]
     },
     "execution_count": 12,
     "metadata": {},
     "output_type": "execute_result"
    }
   ],
   "source": [
    "# 2.1 - Remove Dups\n",
    "\n",
    "def remove_dups(linkedList):\n",
    "    seen = set()\n",
    "    current = linkedList\n",
    "    while current:\n",
    "        if current.value not in seen:\n",
    "            seen.add(current.value)\n",
    "        else:\n",
    "            # Don't have to check if there is a head or not\n",
    "            # because this code will never execute for the\n",
    "            # first item in the list. There will always\n",
    "            # be a head.\n",
    "            current.head.tail = current.tail # One way LL\n",
    "            if current.tail is not None:\n",
    "                current.tail.head = current.head # Two way LL\n",
    "        current = current.tail\n",
    "    return linkedList\n",
    "\n",
    "class Test(unittest.TestCase):\n",
    "    def test(self):\n",
    "        num = 10\n",
    "        linkedList = generate(range(num) * 2)\n",
    "        self.assertListEqual(remove_dups(linkedList).to_list(), range(num))\n",
    "\n",
    "unittest.TextTestRunner().run(unittest.TestLoader().loadTestsFromTestCase(Test))"
   ]
  },
  {
   "cell_type": "code",
   "execution_count": 13,
   "metadata": {
    "collapsed": false
   },
   "outputs": [
    {
     "name": "stderr",
     "output_type": "stream",
     "text": [
      "..\n",
      "----------------------------------------------------------------------\n",
      "Ran 2 tests in 0.006s\n",
      "\n",
      "OK\n"
     ]
    },
    {
     "data": {
      "text/plain": [
       "<unittest.runner.TextTestResult run=2 errors=0 failures=0>"
      ]
     },
     "execution_count": 13,
     "metadata": {},
     "output_type": "execute_result"
    }
   ],
   "source": [
    "# 2.2 - Return Kth to Last (Singly linked list)\n",
    "\n",
    "def return_kth_to_last(linkedList, k):\n",
    "\n",
    "    endPointer = linkedList\n",
    "    kthPointer = linkedList\n",
    "    for i in range(k-1):\n",
    "        endPointer = endPointer.tail\n",
    "        if endPointer.tail is None:\n",
    "            raise RuntimeError('k is greater than the linked list length (%i>%i)' % (k, i))\n",
    "    while endPointer.tail is not None:\n",
    "        endPointer = endPointer.tail\n",
    "        kthPointer = kthPointer.tail\n",
    "    return kthPointer\n",
    "\n",
    "class Test(unittest.TestCase):\n",
    "    def test1(self):\n",
    "        k = 5\n",
    "        num = 10\n",
    "        linkedList = generate(range(num))\n",
    "        self.assertListEqual(return_kth_to_last(linkedList, k).to_list(), range(k, num))\n",
    "    def test2(self):\n",
    "        k = 1\n",
    "        num = 10\n",
    "        linkedList = generate(range(num))\n",
    "        self.assertListEqual(return_kth_to_last(linkedList, k).to_list(), range(num-k, num))\n",
    "\n",
    "unittest.TextTestRunner().run(unittest.TestLoader().loadTestsFromTestCase(Test))"
   ]
  },
  {
   "cell_type": "code",
   "execution_count": 14,
   "metadata": {
    "collapsed": false
   },
   "outputs": [
    {
     "name": "stderr",
     "output_type": "stream",
     "text": [
      "...\n",
      "----------------------------------------------------------------------\n",
      "Ran 3 tests in 0.005s\n",
      "\n",
      "OK\n"
     ]
    },
    {
     "data": {
      "text/plain": [
       "<unittest.runner.TextTestResult run=3 errors=0 failures=0>"
      ]
     },
     "execution_count": 14,
     "metadata": {},
     "output_type": "execute_result"
    }
   ],
   "source": [
    "# 2.3 - Remove Middle Node (Singly linked list)\n",
    "\n",
    "def remove_middle_node(node):\n",
    "    node.value = node.tail.value\n",
    "    node.tail = node.tail.tail\n",
    "\n",
    "class Test(unittest.TestCase):\n",
    "    def test_first(self):\n",
    "        num = 10\n",
    "        n = 1\n",
    "        linkedList = current = generate(range(num))\n",
    "        for i in range(n):\n",
    "            current = current.tail\n",
    "        remove_middle_node(current)\n",
    "        self.assertListEqual(linkedList.to_list(), range(n)+range(n+1, num))\n",
    "    def test_middle(self):\n",
    "        num = 10\n",
    "        n = num/2\n",
    "        linkedList = current = generate(range(num))\n",
    "        for i in range(n):\n",
    "            current = current.tail\n",
    "        remove_middle_node(current)\n",
    "        self.assertListEqual(linkedList.to_list(), range(n)+range(n+1, num))\n",
    "    def test_last(self):\n",
    "        num = 10\n",
    "        n = num-2\n",
    "        linkedList = current = generate(range(num))\n",
    "        for i in range(n):\n",
    "            current = current.tail\n",
    "        remove_middle_node(current)\n",
    "        self.assertListEqual(linkedList.to_list(), range(n)+range(n+1, num))\n",
    "\n",
    "unittest.TextTestRunner().run(unittest.TestLoader().loadTestsFromTestCase(Test))"
   ]
  },
  {
   "cell_type": "code",
   "execution_count": 15,
   "metadata": {
    "collapsed": false,
    "scrolled": true
   },
   "outputs": [
    {
     "name": "stderr",
     "output_type": "stream",
     "text": [
      ".\n",
      "----------------------------------------------------------------------\n",
      "Ran 1 test in 0.071s\n",
      "\n",
      "OK\n"
     ]
    },
    {
     "data": {
      "text/plain": [
       "<unittest.runner.TextTestResult run=1 errors=0 failures=0>"
      ]
     },
     "execution_count": 15,
     "metadata": {},
     "output_type": "execute_result"
    }
   ],
   "source": [
    "# 2.4 - Partition\n",
    "\n",
    "def partition(linkedList, x):\n",
    "    \"\"\" Solution: Use a head and a tail pointer. Flip the\n",
    "    tail and head pointer's references when a value >= x\n",
    "    is found. \"\"\"\n",
    "\n",
    "    p1 = linkedList\n",
    "    p2 = linkedList\n",
    "    while p1 and p2:\n",
    "        while p1.tail and p1.value >= x:\n",
    "            p1 = p1.tail\n",
    "        if p1 is not None:\n",
    "            # Swap all values\n",
    "            p1.value, p2.value = p2.value, p1.value\n",
    "        # Increment the pointers\n",
    "        p1 = p1.tail\n",
    "        p2 = p2.tail\n",
    "    return linkedList\n",
    "\n",
    "class Test(unittest.TestCase):\n",
    "    def test(self):\n",
    "        num = 10\n",
    "        # Run 1000 tests\n",
    "        for _ in range(1000):\n",
    "            # Generate random input\n",
    "            nums = random.sample(range(num), num)\n",
    "            linkedList = generate(nums)\n",
    "            x = random.randint(0, num)\n",
    "            l = partition(linkedList, x).to_list()\n",
    "            # All values < x should be left of values >= x\n",
    "            first = num\n",
    "            for i, v in enumerate(l):\n",
    "                if v >= x:\n",
    "                    first = i\n",
    "                    break\n",
    "\n",
    "            self.assertTrue(all(z < x for z in l[:first]))\n",
    "            self.assertTrue(all(z >= x for z in l[first:]))\n",
    "\n",
    "unittest.TextTestRunner().run(unittest.TestLoader().loadTestsFromTestCase(Test))"
   ]
  },
  {
   "cell_type": "code",
   "execution_count": 16,
   "metadata": {
    "collapsed": false
   },
   "outputs": [
    {
     "name": "stderr",
     "output_type": "stream",
     "text": [
      ".\n",
      "----------------------------------------------------------------------\n",
      "Ran 1 test in 0.068s\n",
      "\n",
      "OK\n"
     ]
    },
    {
     "data": {
      "text/plain": [
       "<unittest.runner.TextTestResult run=1 errors=0 failures=0>"
      ]
     },
     "execution_count": 16,
     "metadata": {},
     "output_type": "execute_result"
    }
   ],
   "source": [
    "# 2.5 - Sum 2 Linked Lists\n",
    "\n",
    "from operator import add, mul\n",
    "from itertools import starmap\n",
    "\n",
    "def sum_lists(p1, p2):\n",
    "    \"\"\" Solution: Go through each value, add them together,\n",
    "    increment the 10s counter, and create a linked list\n",
    "    from the result.\"\"\"\n",
    "\n",
    "    ll = first = None\n",
    "\n",
    "    while p1 or p2:\n",
    "        p1_value = p1.value if p1 else 0\n",
    "        p2_value = p2.value if p2 else 0\n",
    "        value = p1_value + p2_value\n",
    "        if ll is None:\n",
    "            ll = first = LinkedList(value)\n",
    "        else:\n",
    "            ll.tail = LinkedList(value)\n",
    "            ll = ll.tail\n",
    "        if p1: p1 = p1.tail\n",
    "        if p2: p2 = p2.tail\n",
    "    return first\n",
    "\n",
    "class Test(unittest.TestCase):\n",
    "    def test(self):\n",
    "        # Run 1000 tests\n",
    "        for _ in range(1000):\n",
    "\n",
    "            # Generate random input\n",
    "            num1 = random.randint(2, 7)\n",
    "            num2 = random.randint(2, 7)\n",
    "            v1 = random.sample(range(num1), num1)\n",
    "            v2 = random.sample(range(num2), num2)\n",
    "            ll1 = generate(v1)\n",
    "            ll2 = generate(v2)\n",
    "\n",
    "            # Run the algorithm\n",
    "            llSum = sum_lists(ll1, ll2).to_list()\n",
    "\n",
    "            # The sum of the generated lists should equal\n",
    "            # the sum of the linked lists.\n",
    "            maxLength = max(len(v1), len(v2))  # Add zeros\n",
    "            v1 += [0]*(maxLength-len(v1))\n",
    "            v2 += [0]*(maxLength-len(v2))\n",
    "            truth = list(starmap(add, zip(v1, v2)))\n",
    "\n",
    "            # Run the test\n",
    "            self.assertListEqual(llSum, truth)\n",
    "\n",
    "unittest.TextTestRunner().run(unittest.TestLoader().loadTestsFromTestCase(Test))"
   ]
  },
  {
   "cell_type": "code",
   "execution_count": 17,
   "metadata": {
    "collapsed": false
   },
   "outputs": [
    {
     "name": "stderr",
     "output_type": "stream",
     "text": [
      ".\n",
      "----------------------------------------------------------------------\n",
      "Ran 1 test in 0.003s\n",
      "\n",
      "OK\n"
     ]
    },
    {
     "data": {
      "text/plain": [
       "<unittest.runner.TextTestResult run=1 errors=0 failures=0>"
      ]
     },
     "execution_count": 17,
     "metadata": {},
     "output_type": "execute_result"
    }
   ],
   "source": [
    "# 2.6 - Palindrome\n",
    "\n",
    "\n",
    "def _is_palindrome(ll, stack=None, level=0):\n",
    "\n",
    "    \"\"\" I think I can do this better. You just have to iterate through the\n",
    "    linked list until the end and do the first/last pop thing at the end.\n",
    "    It's O(n) time but also O(n) extra memory. \"\"\"\n",
    "\n",
    "    # Make the stack if we haven't already\n",
    "    if stack is None:\n",
    "        stack = []\n",
    "\n",
    "    # If we are at the end of the linked list,\n",
    "    # return the size\n",
    "    if ll is None:\n",
    "        return stack\n",
    "\n",
    "    # Add the value to the stack\n",
    "    stack.append(ll.value)\n",
    "\n",
    "    # Recurse while incrementing the linked list and size\n",
    "    stack = _is_palindrome(ll.tail, stack, level+1)\n",
    "\n",
    "    # If we haven't gone all the way up yet, return\n",
    "    # the stack.\n",
    "    if level > 0:\n",
    "        return stack\n",
    "\n",
    "    # Now that the size and stack is populated,\n",
    "    # figure out if it's a palindrome\n",
    "    result = True\n",
    "    while stack and len(stack) > 1:\n",
    "\n",
    "        # Pop off the first and last items from the stack\n",
    "        first, second = stack.pop(0), stack.pop()\n",
    "\n",
    "        # Compare them\n",
    "        result &= (first == second)\n",
    "\n",
    "    return result\n",
    "\n",
    "def is_palindrome(ll):\n",
    "    return _is_palindrome(ll) is not False\n",
    "\n",
    "class Test(unittest.TestCase):\n",
    "    def test(self):\n",
    "        self.assertTrue(is_palindrome(generate(['a'])))\n",
    "        self.assertTrue(is_palindrome(generate(['a', 'a'])))\n",
    "        self.assertTrue(is_palindrome(generate(['a', 'a', 'a'])))\n",
    "        self.assertTrue(is_palindrome(generate(['a', 'b', 'c', 'b', 'a'])))\n",
    "        self.assertFalse(is_palindrome(generate(['a', 'b', 'c', 'z', 'a'])))\n",
    "        self.assertFalse(is_palindrome(generate(['a', 'b'])))\n",
    "\n",
    "unittest.TextTestRunner().run(unittest.TestLoader().loadTestsFromTestCase(Test))"
   ]
  },
  {
   "cell_type": "code",
   "execution_count": 18,
   "metadata": {
    "collapsed": false
   },
   "outputs": [
    {
     "name": "stderr",
     "output_type": "stream",
     "text": [
      "F"
     ]
    },
    {
     "name": "stdout",
     "output_type": "stream",
     "text": [
      "linear part [1, 2, 3]\n",
      "endOfLinear 3\n",
      "6 7 8 9 10 11 12 13 14 15 16 17 18 19\n",
      "\n",
      "1 1\n",
      "3 2\n",
      "7 3\n",
      "9 6\n",
      "11 7\n",
      "13 8\n",
      "15 9\n",
      "17 10\n",
      "19 11\n",
      "7 12\n",
      "9 13\n",
      "11 14\n",
      "13 15\n",
      "15 16\n",
      "loop found 17 17\n",
      "returned value 1\n",
      "start of loop value 6\n"
     ]
    },
    {
     "name": "stderr",
     "output_type": "stream",
     "text": [
      "\n",
      "======================================================================\n",
      "FAIL: test_loop_even_small (__main__.Test)\n",
      "----------------------------------------------------------------------\n",
      "Traceback (most recent call last):\n",
      "  File \"<ipython-input-18-6d732342f959>\", line 54, in test_loop_even_small\n",
      "    self.assertEqual(a, b)\n",
      "AssertionError: 1 != 6\n",
      "\n",
      "----------------------------------------------------------------------\n",
      "Ran 1 test in 0.016s\n",
      "\n",
      "FAILED (failures=1)\n"
     ]
    },
    {
     "data": {
      "text/plain": [
       "<unittest.runner.TextTestResult run=1 errors=0 failures=1>"
      ]
     },
     "execution_count": 18,
     "metadata": {},
     "output_type": "execute_result"
    }
   ],
   "source": [
    "# 2.8 - Loop Detection\n",
    "\"\"\" Return node at beginning of loop, not a node in the loop,\n",
    "or a boolean, but the node at the beginning of the loop! \"\"\"\n",
    "\n",
    "\"\"\" This is not the correct way to do it.\"\"\"\n",
    "\n",
    "def find_loop_start(ll):\n",
    "    \"\"\" Ideas:\n",
    "    1. Remove loop from list then iterate through again and return the ending node.\n",
    "    2. Instead of removing completely, move them to a new linked list so I can copy\n",
    "       it back after figuring out wher ethe first node of the loop is.\n",
    "    \"\"\"\n",
    "\n",
    "    # Find the loop and remove it from the linked list\n",
    "    fast = ll\n",
    "    slow = ll\n",
    "    print ''\n",
    "    loopFound = False\n",
    "    while fast.tail and fast.tail.tail and slow.tail:\n",
    "        print fast.value, slow.value\n",
    "        fast = fast.tail.tail\n",
    "        slow = slow.tail\n",
    "        if fast.value == slow.value:\n",
    "            loopFound = True\n",
    "            break\n",
    "    if not loopFound:\n",
    "        raise RuntimeError(\"Loop not detected\")\n",
    "\n",
    "    # Copy the loop to a new linked list\n",
    "\n",
    "    print 'loop found', fast.value, slow.value\n",
    "    return ll\n",
    "\n",
    "class Test(unittest.TestCase):\n",
    "    def test_loop_even_small(self):\n",
    "        first = ll = generate(range(1, 4))\n",
    "        while ll.tail:\n",
    "            ll = ll.tail\n",
    "        endOfLinear = ll\n",
    "        print 'linear part', first.to_list()\n",
    "        print 'endOfLinear', endOfLinear.value\n",
    "        endOfLinear.tail = generate(range(6, 20))\n",
    "        ll = endOfLinear.tail\n",
    "        i = 0\n",
    "        while ll.tail and i < 100:\n",
    "            print ll.value,\n",
    "            ll = ll.tail\n",
    "        print ll.value\n",
    "        ll.tail = endOfLinear.tail\n",
    "        a = find_loop_start(first).value\n",
    "        b = endOfLinear.tail.value\n",
    "        print 'returned value', a\n",
    "        print 'start of loop value', b\n",
    "        self.assertEqual(a, b)\n",
    "\n",
    "unittest.TextTestRunner().run(unittest.TestLoader().loadTestsFromTestCase(Test))"
   ]
  }
 ],
 "metadata": {
  "kernelspec": {
   "display_name": "Python 2",
   "language": "python",
   "name": "python2"
  },
  "language_info": {
   "codemirror_mode": {
    "name": "ipython",
    "version": 2
   },
   "file_extension": ".py",
   "mimetype": "text/x-python",
   "name": "python",
   "nbconvert_exporter": "python",
   "pygments_lexer": "ipython2",
   "version": "2.7.13"
  }
 },
 "nbformat": 4,
 "nbformat_minor": 2
}
